{
  "cells": [
    {
      "cell_type": "code",
      "source": [
        "import numpy as np\n",
        "import tensorflow as tf\n",
        "from tensorflow.keras.models import Sequential\n",
        "from tensorflow.keras.layers import Embedding, LSTM, Dense\n",
        "from tensorflow.keras.preprocessing.sequence import pad_sequences\n",
        "from sklearn.model_selection import train_test_split\n",
        "import random\n"
      ],
      "metadata": {
        "id": "9V_yRB3zhQnH"
      },
      "execution_count": 8,
      "outputs": []
    },
    {
      "cell_type": "code",
      "source": [
        "def generate_balanced_sequence(length):\n",
        "    seq = ['('] * (length // 2) + [')'] * (length // 2)\n",
        "    random.shuffle(seq)\n",
        "    return ''.join(seq)\n",
        "\n",
        "def generate_unbalanced_sequence(length):\n",
        "    seq = [random.choice(['(', ')']) for _ in range(length)]\n",
        "    # Ensure it is unbalanced\n",
        "    if seq.count('(') == seq.count(')'):\n",
        "        seq[-1] = '('\n",
        "    return ''.join(seq)\n",
        "\n",
        "def generate_dataset(n_samples=10000, maxlen=20):\n",
        "    X, y = [], []\n",
        "    for _ in range(n_samples // 2):\n",
        "        s = generate_balanced_sequence(random.choice(range(6, maxlen, 2)))\n",
        "        X.append(s)\n",
        "        y.append(1)\n",
        "    for _ in range(n_samples // 2):\n",
        "        s = generate_unbalanced_sequence(random.randint(6, maxlen))\n",
        "        X.append(s)\n",
        "        y.append(0)\n",
        "    return X, y\n"
      ],
      "metadata": {
        "id": "n4aOIt_FlUL1"
      },
      "execution_count": 9,
      "outputs": []
    },
    {
      "cell_type": "code",
      "source": [
        "X_text, y = generate_dataset()\n",
        "char_to_int = {'(': 1, ')': 2}\n",
        "X_seq = [[char_to_int[c] for c in seq] for seq in X_text]\n",
        "max_seq_len = max(len(seq) for seq in X_seq)\n",
        "X_pad = pad_sequences(X_seq, maxlen=max_seq_len, padding='post')\n",
        "X_train, X_test, y_train, y_test = train_test_split(X_pad, y, test_size=0.2, random_state=42)\n",
        "\n",
        "# 3. Build LSTM Model\n",
        "model = Sequential([\n",
        "    Embedding(input_dim=3, output_dim=16, input_length=max_seq_len),\n",
        "    LSTM(32),\n",
        "    Dense(1, activation='sigmoid')\n",
        "])\n",
        "model.compile(optimizer='adam', loss='binary_crossentropy', metrics=['accuracy'])\n"
      ],
      "metadata": {
        "id": "iawrudyQlZr0",
        "outputId": "b5583195-b8fc-4fcb-b761-d7da8f951cc4",
        "colab": {
          "base_uri": "https://localhost:8080/"
        }
      },
      "execution_count": 10,
      "outputs": [
        {
          "output_type": "stream",
          "name": "stderr",
          "text": [
            "/usr/local/lib/python3.11/dist-packages/keras/src/layers/core/embedding.py:90: UserWarning: Argument `input_length` is deprecated. Just remove it.\n",
            "  warnings.warn(\n"
          ]
        }
      ]
    },
    {
      "cell_type": "code",
      "source": [
        "history = model.fit(\n",
        "    X_train, np.array(y_train),\n",
        "    validation_split=0.2,\n",
        "    epochs=5,\n",
        "    batch_size=64,\n",
        "    verbose=1\n",
        ")\n",
        "\n",
        "# 5. Evaluate Model\n",
        "loss, accuracy = model.evaluate(X_test, np.array(y_test), verbose=0)\n",
        "print(f\"\\nLSTM Test Accuracy: {accuracy * 100:.2f}%\")\n"
      ],
      "metadata": {
        "id": "oFSYMAZDlc-Q",
        "outputId": "a465e850-aff0-4618-ff37-68583194f04e",
        "colab": {
          "base_uri": "https://localhost:8080/"
        }
      },
      "execution_count": 11,
      "outputs": [
        {
          "output_type": "stream",
          "name": "stdout",
          "text": [
            "Epoch 1/5\n",
            "\u001b[1m100/100\u001b[0m \u001b[32m━━━━━━━━━━━━━━━━━━━━\u001b[0m\u001b[37m\u001b[0m \u001b[1m3s\u001b[0m 9ms/step - accuracy: 0.5138 - loss: 0.6890 - val_accuracy: 0.5581 - val_loss: 0.6834\n",
            "Epoch 2/5\n",
            "\u001b[1m100/100\u001b[0m \u001b[32m━━━━━━━━━━━━━━━━━━━━\u001b[0m\u001b[37m\u001b[0m \u001b[1m1s\u001b[0m 7ms/step - accuracy: 0.5463 - loss: 0.6742 - val_accuracy: 0.5244 - val_loss: 0.6702\n",
            "Epoch 3/5\n",
            "\u001b[1m100/100\u001b[0m \u001b[32m━━━━━━━━━━━━━━━━━━━━\u001b[0m\u001b[37m\u001b[0m \u001b[1m1s\u001b[0m 7ms/step - accuracy: 0.5435 - loss: 0.6615 - val_accuracy: 0.5031 - val_loss: 0.6576\n",
            "Epoch 4/5\n",
            "\u001b[1m100/100\u001b[0m \u001b[32m━━━━━━━━━━━━━━━━━━━━\u001b[0m\u001b[37m\u001b[0m \u001b[1m2s\u001b[0m 18ms/step - accuracy: 0.5466 - loss: 0.6498 - val_accuracy: 0.5163 - val_loss: 0.6470\n",
            "Epoch 5/5\n",
            "\u001b[1m100/100\u001b[0m \u001b[32m━━━━━━━━━━━━━━━━━━━━\u001b[0m\u001b[37m\u001b[0m \u001b[1m2s\u001b[0m 13ms/step - accuracy: 0.6007 - loss: 0.6252 - val_accuracy: 0.7625 - val_loss: 0.4874\n",
            "\n",
            "LSTM Test Accuracy: 76.95%\n"
          ]
        }
      ]
    },
    {
      "cell_type": "code",
      "source": [
        "def predict_sequence(model, seq_str):\n",
        "    seq_encoded = [char_to_int[c] for c in seq_str]\n",
        "    seq_padded = pad_sequences([seq_encoded], maxlen=max_seq_len, padding='post')\n",
        "    prob = model.predict(seq_padded, verbose=0)[0][0]\n",
        "    return prob, \"Balanced\" if prob >= 0.5 else \"Unbalanced\"\n"
      ],
      "metadata": {
        "id": "dUf4xobNljBV"
      },
      "execution_count": 12,
      "outputs": []
    },
    {
      "cell_type": "code",
      "source": [
        "test_sequences = [\"(()(()))\", \"(()())(()\", \"((()))\", \"()))(\"]\n",
        "print(\"\\n=== Sample Predictions ===\")\n",
        "for seq in test_sequences:\n",
        "    prob, label = predict_sequence(model, seq)\n",
        "    print(f\"Sequence: {seq} --> {label} (Confidence: {prob:.2f})\")"
      ],
      "metadata": {
        "id": "2j0qNkf9llrs",
        "outputId": "01a39326-9dce-4109-9946-d42c69d457f0",
        "colab": {
          "base_uri": "https://localhost:8080/"
        }
      },
      "execution_count": 13,
      "outputs": [
        {
          "output_type": "stream",
          "name": "stdout",
          "text": [
            "\n",
            "=== Sample Predictions ===\n",
            "Sequence: (()(())) --> Balanced (Confidence: 0.67)\n",
            "Sequence: (()())(() --> Unbalanced (Confidence: 0.10)\n",
            "Sequence: ((())) --> Balanced (Confidence: 0.67)\n",
            "Sequence: ()))( --> Unbalanced (Confidence: 0.12)\n"
          ]
        }
      ]
    }
  ],
  "metadata": {
    "colab": {
      "name": "Welcome to Colab",
      "toc_visible": true,
      "provenance": [],
      "history_visible": true
    },
    "kernelspec": {
      "display_name": "Python 3",
      "name": "python3"
    }
  },
  "nbformat": 4,
  "nbformat_minor": 0
}