{
 "cells": [
  {
   "cell_type": "code",
   "execution_count": 9,
   "id": "30e254f7",
   "metadata": {},
   "outputs": [
    {
     "name": "stdout",
     "output_type": "stream",
     "text": [
      "Output for single input (x_in):\n",
      " [[0.49822121]\n",
      " [0.50177879]]\n",
      "\n",
      "Output for matrix input (x_mat_in):\n",
      " [[0.49843392 0.50156608]\n",
      " [0.49825523 0.50174477]\n",
      " [0.49798135 0.50201865]\n",
      " [0.49857462 0.50142538]\n",
      " [0.49844597 0.50155403]\n",
      " [0.49817633 0.50182367]\n",
      " [0.49826369 0.50173631]]\n"
     ]
    }
   ],
   "source": [
    "import numpy as np\n",
    "\n",
    "\n",
    "def sigmoid(x):\n",
    "    return 1 / (1 + np.exp(-x))\n",
    "\n",
    "def soft_max_vec(x):\n",
    "    e_x = np.exp(x - np.max(x))\n",
    "    return e_x / np.sum(e_x)\n",
    "\n",
    "def soft_max_mat(x):\n",
    "    e_x = np.exp(x - np.max(x, axis=1, keepdims=True))\n",
    "    return e_x / np.sum(e_x, axis=1, keepdims=True)\n",
    "\n",
    "\n",
    "def forward_pass_vec(x_vec, layers):\n",
    "    a = x_vec.reshape(-1, 1)\n",
    "    for i, W in enumerate(layers):\n",
    "        z = W.T @ a\n",
    "        if i < len(layers) - 1:\n",
    "            a = sigmoid(z)\n",
    "        else:\n",
    "            a = soft_max_vec(z)\n",
    "    return a\n",
    "\n",
    "\n",
    "def forward_pass_mat(x_mat, layers):\n",
    "    a = x_mat\n",
    "    for i, W in enumerate(layers):\n",
    "        z = a @ W\n",
    "        if i < len(layers) - 1:\n",
    "            a = sigmoid(z)\n",
    "        else:\n",
    "            a = soft_max_mat(z)\n",
    "    return a\n",
    "\n",
    "\n",
    "np.random.seed(0)\n",
    "\n",
    "input_size = 4\n",
    "hidden1_size = 5\n",
    "hidden2_size = 3\n",
    "output_size = 2\n",
    "\n",
    "\n",
    "W_1 = np.random.rand(input_size, hidden1_size)\n",
    "W_2 = np.random.rand(hidden1_size, hidden2_size)\n",
    "W_3 = np.random.rand(hidden2_size, output_size)\n",
    "\n",
    "layers = [W_1, W_2, W_3]\n",
    "\n",
    "\n",
    "x_in = np.random.rand(input_size)\n",
    "x_mat_in = np.random.rand(7, input_size)\n",
    "\n",
    "\n",
    "output_single = forward_pass_vec(x_in, layers)\n",
    "print(\"Output for single input (x_in):\\n\", output_single)\n",
    "\n",
    "output_batch = forward_pass_mat(x_mat_in, layers)\n",
    "print(\"\\nOutput for matrix input (x_mat_in):\\n\", output_batch)\n"
   ]
  },
  {
   "cell_type": "code",
   "execution_count": null,
   "id": "dc6d57f9",
   "metadata": {},
   "outputs": [],
   "source": []
  }
 ],
 "metadata": {
  "kernelspec": {
   "display_name": "Python 3 (ipykernel)",
   "language": "python",
   "name": "python3"
  },
  "language_info": {
   "codemirror_mode": {
    "name": "ipython",
    "version": 3
   },
   "file_extension": ".py",
   "mimetype": "text/x-python",
   "name": "python",
   "nbconvert_exporter": "python",
   "pygments_lexer": "ipython3",
   "version": "3.9.13"
  }
 },
 "nbformat": 4,
 "nbformat_minor": 5
}
