{
 "cells": [
  {
   "cell_type": "code",
   "execution_count": 1,
   "id": "8fa66c01",
   "metadata": {},
   "outputs": [],
   "source": [
    "import numpy as np\n",
    "\n",
    "\n",
    "X = np.array([[0, 0],\n",
    "              [0, 1],\n",
    "              [1, 0],\n",
    "              [1, 1]])\n",
    "y = np.array([[0],\n",
    "              [1],\n",
    "              [1],\n",
    "              [0]])\n"
   ]
  },
  {
   "cell_type": "code",
   "execution_count": 2,
   "id": "18ee3d14",
   "metadata": {},
   "outputs": [],
   "source": [
    "def sigmoid(x):\n",
    "    return 1 / (1 + np.exp(-x))\n",
    "\n",
    "def sigmoid_derivative(x):\n",
    "    return x * (1 - x)\n"
   ]
  },
  {
   "cell_type": "code",
   "execution_count": 3,
   "id": "fb618fe4",
   "metadata": {},
   "outputs": [
    {
     "name": "stdout",
     "output_type": "stream",
     "text": [
      "Epoch 0, Loss: 0.3907\n",
      "Epoch 1000, Loss: 0.2483\n",
      "Epoch 2000, Loss: 0.2365\n",
      "Epoch 3000, Loss: 0.1911\n",
      "Epoch 4000, Loss: 0.1188\n",
      "Epoch 5000, Loss: 0.0299\n",
      "Epoch 6000, Loss: 0.0124\n",
      "Epoch 7000, Loss: 0.0073\n",
      "Epoch 8000, Loss: 0.0050\n",
      "Epoch 9000, Loss: 0.0038\n"
     ]
    }
   ],
   "source": [
    "np.random.seed(0)\n",
    "\n",
    "\n",
    "input_layer_neurons = 2\n",
    "hidden_layer_neurons = 2\n",
    "output_neurons = 1\n",
    "\n",
    "\n",
    "wh = np.random.uniform(size=(input_layer_neurons, hidden_layer_neurons)) \n",
    "bh = np.random.uniform(size=(1, hidden_layer_neurons))                    \n",
    "wo = np.random.uniform(size=(hidden_layer_neurons, output_neurons))       \n",
    "bo = np.random.uniform(size=(1, output_neurons))                           \n",
    "\n",
    "\n",
    "lr = 0.1\n",
    "epochs = 10000\n",
    "\n",
    "for epoch in range(epochs):\n",
    "    \n",
    "    zh = np.dot(X, wh) + bh\n",
    "    ah = sigmoid(zh)\n",
    "\n",
    "    zo = np.dot(ah, wo) + bo\n",
    "    ao = sigmoid(zo)\n",
    "\n",
    "   \n",
    "    error = y - ao\n",
    "    d_output = error * sigmoid_derivative(ao)\n",
    "\n",
    "    error_hidden = d_output.dot(wo.T)\n",
    "    d_hidden = error_hidden * sigmoid_derivative(ah)\n",
    "\n",
    "   \n",
    "    wo += ah.T.dot(d_output) * lr\n",
    "    bo += np.sum(d_output, axis=0, keepdims=True) * lr\n",
    "    wh += X.T.dot(d_hidden) * lr\n",
    "    bh += np.sum(d_hidden, axis=0, keepdims=True) * lr\n",
    "\n",
    "    if epoch % 1000 == 0:\n",
    "        loss = np.mean(np.square(error))\n",
    "        print(f\"Epoch {epoch}, Loss: {loss:.4f}\")\n"
   ]
  },
  {
   "cell_type": "code",
   "execution_count": 4,
   "id": "06a7c421",
   "metadata": {},
   "outputs": [
    {
     "data": {
      "image/png": "[encoded data removed]",
      "text/plain": [
       "<Figure size 640x480 with 1 Axes>"
      ]
     },
     "metadata": {},
     "output_type": "display_data"
    }
   ],
   "source": [
    "import matplotlib.pyplot as plt\n",
    "\n",
    "\n",
    "xx, yy = np.meshgrid(np.linspace(0, 1, 100),\n",
    "                     np.linspace(0, 1, 100))\n",
    "grid = np.c_[xx.ravel(), yy.ravel()]\n",
    "\n",
    "\n",
    "zh = np.dot(grid, wh) + bh\n",
    "ah = sigmoid(zh)\n",
    "zo = np.dot(ah, wo) + bo\n",
    "ao = sigmoid(zo)\n",
    "Z = ao.reshape(xx.shape)\n",
    "\n",
    "\n",
    "plt.contourf(xx, yy, Z, levels=[0, 0.5, 1], alpha=0.6, cmap='RdBu')\n",
    "plt.scatter(X[:, 0], X[:, 1], c=y.ravel(), cmap='RdBu', edgecolors='k')\n",
    "plt.title(\"Decision Boundary of MLP on XOR\")\n",
    "plt.xlabel(\"Input 1\")\n",
    "plt.ylabel(\"Input 2\")\n",
    "plt.show()\n"
   ]
  },
  {
   "cell_type": "code",
   "execution_count": null,
   "id": "7a3fc81f",
   "metadata": {},
   "outputs": [],
   "source": []
  }
 ],
 "metadata": {
  "kernelspec": {
   "display_name": "Python 3 (ipykernel)",
   "language": "python",
   "name": "python3"
  },
  "language_info": {
   "codemirror_mode": {
    "name": "ipython",
    "version": 3
   },
   "file_extension": ".py",
   "mimetype": "text/x-python",
   "name": "python",
   "nbconvert_exporter": "python",
   "pygments_lexer": "ipython3",
   "version": "3.9.13"
  }
 },
 "nbformat": 4,
 "nbformat_minor": 5
}
